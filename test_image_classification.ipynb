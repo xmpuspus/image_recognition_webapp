{
 "cells": [
  {
   "cell_type": "code",
   "execution_count": 1,
   "metadata": {},
   "outputs": [],
   "source": [
    "import pandas as pd"
   ]
  },
  {
   "cell_type": "code",
   "execution_count": 2,
   "metadata": {},
   "outputs": [
    {
     "name": "stderr",
     "output_type": "stream",
     "text": [
      "/anaconda3/lib/python3.6/site-packages/tensorflow/python/framework/dtypes.py:517: FutureWarning: Passing (type, 1) or '1type' as a synonym of type is deprecated; in a future version of numpy, it will be understood as (type, (1,)) / '(1,)type'.\n",
      "  _np_qint8 = np.dtype([(\"qint8\", np.int8, 1)])\n",
      "/anaconda3/lib/python3.6/site-packages/tensorflow/python/framework/dtypes.py:518: FutureWarning: Passing (type, 1) or '1type' as a synonym of type is deprecated; in a future version of numpy, it will be understood as (type, (1,)) / '(1,)type'.\n",
      "  _np_quint8 = np.dtype([(\"quint8\", np.uint8, 1)])\n",
      "/anaconda3/lib/python3.6/site-packages/tensorflow/python/framework/dtypes.py:519: FutureWarning: Passing (type, 1) or '1type' as a synonym of type is deprecated; in a future version of numpy, it will be understood as (type, (1,)) / '(1,)type'.\n",
      "  _np_qint16 = np.dtype([(\"qint16\", np.int16, 1)])\n",
      "/anaconda3/lib/python3.6/site-packages/tensorflow/python/framework/dtypes.py:520: FutureWarning: Passing (type, 1) or '1type' as a synonym of type is deprecated; in a future version of numpy, it will be understood as (type, (1,)) / '(1,)type'.\n",
      "  _np_quint16 = np.dtype([(\"quint16\", np.uint16, 1)])\n",
      "/anaconda3/lib/python3.6/site-packages/tensorflow/python/framework/dtypes.py:521: FutureWarning: Passing (type, 1) or '1type' as a synonym of type is deprecated; in a future version of numpy, it will be understood as (type, (1,)) / '(1,)type'.\n",
      "  _np_qint32 = np.dtype([(\"qint32\", np.int32, 1)])\n",
      "/anaconda3/lib/python3.6/site-packages/tensorflow/python/framework/dtypes.py:526: FutureWarning: Passing (type, 1) or '1type' as a synonym of type is deprecated; in a future version of numpy, it will be understood as (type, (1,)) / '(1,)type'.\n",
      "  np_resource = np.dtype([(\"resource\", np.ubyte, 1)])\n"
     ]
    },
    {
     "data": {
      "text/plain": [
       "<Figure size 640x480 with 1 Axes>"
      ]
     },
     "metadata": {},
     "output_type": "display_data"
    },
    {
     "name": "stdout",
     "output_type": "stream",
     "text": [
      "sports_car  :  33.0001026391983\n",
      "racer  :  30.312705039978027\n",
      "car_wheel  :  8.224228024482727\n",
      "minivan  :  4.248134791851044\n",
      "beach_wagon  :  3.7584055215120316\n"
     ]
    }
   ],
   "source": [
    "import numpy as np\n",
    "import pandas as pd\n",
    "import matplotlib.pyplot as plt\n",
    "import seaborn as sns\n",
    "import os\n",
    "import matplotlib.image as mpimg\n",
    "\n",
    "\n",
    "execution_path = os.getcwd()\n",
    "image_path = os.path.join(execution_path, 'images/')\n",
    "model_path = os.path.join(execution_path, 'model/')\n",
    "\n",
    "from imageai.Prediction import ImagePrediction\n",
    "\n",
    "prediction = ImagePrediction()\n",
    "prediction.setModelTypeAsResNet()\n",
    "prediction.setModelPath(os.path.join(model_path, \"resnet50_weights_tf_dim_ordering_tf_kernels.h5\"))\n",
    "prediction.loadModel()\n",
    "\n",
    "file_path = os.path.join(image_path, \"car_1.jpg\")\n",
    "\n",
    "predictions, probabilities = prediction.predictImage(os.path.join(execution_path, file_path), result_count=5)\n",
    "\n",
    "img = mpimg.imread(file_path)\n",
    "imgplot = plt.imshow(img)\n",
    "plt.show()\n",
    "\n",
    "\n",
    "for eachPrediction, eachProbability in zip(predictions, probabilities):\n",
    "    print(eachPrediction , \" : \" , eachProbability)"
   ]
  },
  {
   "cell_type": "code",
   "execution_count": 3,
   "metadata": {},
   "outputs": [
    {
     "data": {
      "text/plain": [
       "'/Users/xmpuspus/Desktop/Lectures/notebooks/image_recog_app'"
      ]
     },
     "execution_count": 3,
     "metadata": {},
     "output_type": "execute_result"
    }
   ],
   "source": [
    "os.getcwd()"
   ]
  },
  {
   "cell_type": "code",
   "execution_count": 6,
   "metadata": {},
   "outputs": [
    {
     "data": {
      "text/plain": [
       "'images/'"
      ]
     },
     "execution_count": 6,
     "metadata": {},
     "output_type": "execute_result"
    }
   ],
   "source": [
    "execution_path = ''\n",
    "image_path = os.path.join(execution_path, 'images/')\n",
    "image_path"
   ]
  },
  {
   "cell_type": "code",
   "execution_count": 7,
   "metadata": {},
   "outputs": [],
   "source": [
    "onlyfiles = [f for f in os.listdir(image_path)]"
   ]
  },
  {
   "cell_type": "code",
   "execution_count": 8,
   "metadata": {},
   "outputs": [
    {
     "data": {
      "text/plain": [
       "['urban_image.jpg',\n",
       " 'city.jpg',\n",
       " 'venice_image.jpg',\n",
       " 'house_1.jpeg',\n",
       " 'car_1.jpg',\n",
       " 'car_2.jpg',\n",
       " 'castle_images.jpg',\n",
       " 'market_image.jpg',\n",
       " 'family_image.jpg',\n",
       " 'rural_image.jpg']"
      ]
     },
     "execution_count": 8,
     "metadata": {},
     "output_type": "execute_result"
    }
   ],
   "source": [
    "onlyfiles"
   ]
  },
  {
   "cell_type": "code",
   "execution_count": 9,
   "metadata": {},
   "outputs": [],
   "source": [
    "import pandas as pd\n",
    "import numpy as np\n",
    "import streamlit as st\n",
    "import matplotlib.image as mpimg\n",
    "from imageai.Prediction import ImagePrediction\n",
    "import os\n",
    "\n",
    "# Get path\n",
    "# execution_path = '/Users/xmpuspus/Desktop/Lectures/notebooks/image_recog_app'\n",
    "image_path = '/Users/xmpuspus/Desktop/Lectures/notebooks/image_recog_app/images/'\n",
    "model_path = '/Users/xmpuspus/Desktop/Lectures/notebooks/image_recog_app/model/'\n",
    "model = '/Users/xmpuspus/Desktop/Lectures/notebooks/image_recog_app/model/resnet50_weights_tf_dim_ordering_tf_kernels.h5'\n",
    "\n",
    "# Set Title\n",
    "st.title(\"Image Recognition\")\n",
    "\n",
    "# Set Sidebar Options\n",
    "st.sidebar.title('About')\n",
    "st.sidebar.info('Choose an image to test the ResNet50 classifier.')\n",
    "st.sidebar.title(\"Predict New Images\")\n",
    "onlyfiles = [f for f in os.listdir(image_path)]\n",
    "\n",
    "# Actual Prediction on image using Resnet\n",
    "\n",
    "prediction = ImagePrediction()\n",
    "prediction.setModelTypeAsResNet()\n",
    "prediction.setModelPath(model)\n",
    "\n",
    "\n",
    "predictor = prediction.loadModel()\n",
    "\n",
    "# Select image path from options\n",
    "imageselect = st.sidebar.selectbox(\"Pick an image.\", onlyfiles)\n",
    "\n",
    "# Read image metadata\n",
    "img = mpimg.imread(os.path.join(image_path, imageselect))\n",
    "\n",
    "# Plot on streamlift\n",
    "st.image(img, caption=\"Let's predict the image!\", use_column_width=True)\n",
    "\n",
    "if st.sidebar.button('Predict Image'):\n",
    "    \n",
    "    # Get predictions\n",
    "    predictions, probabilities = predictor.predictImage(os.path.join(image_path, imageselect), result_count=5)\n",
    "\n",
    "    # Print out predictions\n",
    "    for eachPrediction, eachProbability in zip(predictions, probabilities):\n",
    "        st.write(eachPrediction , \" : \" , eachProbability)"
   ]
  },
  {
   "cell_type": "code",
   "execution_count": null,
   "metadata": {},
   "outputs": [],
   "source": []
  }
 ],
 "metadata": {
  "kernelspec": {
   "display_name": "Python 3",
   "language": "python",
   "name": "python3"
  },
  "language_info": {
   "codemirror_mode": {
    "name": "ipython",
    "version": 3
   },
   "file_extension": ".py",
   "mimetype": "text/x-python",
   "name": "python",
   "nbconvert_exporter": "python",
   "pygments_lexer": "ipython3",
   "version": "3.7.4"
  }
 },
 "nbformat": 4,
 "nbformat_minor": 4
}
